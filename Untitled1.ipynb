{
 "cells": [
  {
   "cell_type": "code",
   "execution_count": 1,
   "id": "b57449b3",
   "metadata": {},
   "outputs": [],
   "source": [
    "import numpy as np"
   ]
  },
  {
   "cell_type": "code",
   "execution_count": 2,
   "id": "045e2ab7",
   "metadata": {},
   "outputs": [
    {
     "ename": "SyntaxError",
     "evalue": "invalid syntax (<ipython-input-2-09aca99e1a1c>, line 18)",
     "output_type": "error",
     "traceback": [
      "\u001b[0;36m  File \u001b[0;32m\"<ipython-input-2-09aca99e1a1c>\"\u001b[0;36m, line \u001b[0;32m18\u001b[0m\n\u001b[0;31m    return arr[]\u001b[0m\n\u001b[0m               ^\u001b[0m\n\u001b[0;31mSyntaxError\u001b[0m\u001b[0;31m:\u001b[0m invalid syntax\n"
     ]
    }
   ],
   "source": [
    "import numpy as np\n",
    "def divisible_by(arr, int1, int2):\n",
    "    '''Returns an array of the integers in arr that are divisible without\n",
    "    remainder by both int1 and int2.\n",
    "\n",
    "    Parameters\n",
    "    ----------\n",
    "    arr: NumPy array\n",
    "    int1, int2: int, int\n",
    "\n",
    "    Returns\n",
    "    -------\n",
    "    NumPy array\n",
    "\n",
    "    >>>divisible_by(np.array([0, 24, 3, 12, 18, 17]), 3, 4)\n",
    "    np.array([0, 24, 12])\n",
    "    '''\n",
    "    return arr[]"
   ]
  },
  {
   "cell_type": "code",
   "execution_count": 3,
   "id": "45b0a48d",
   "metadata": {},
   "outputs": [],
   "source": [
    "arr = np.array([0, 24, 3, 12, 18, 17])"
   ]
  },
  {
   "cell_type": "code",
   "execution_count": 17,
   "id": "6139c963",
   "metadata": {},
   "outputs": [
    {
     "data": {
      "text/plain": [
       "array([ 0, 24,  0, 24, 12])"
      ]
     },
     "execution_count": 17,
     "metadata": {},
     "output_type": "execute_result"
    }
   ],
   "source": [
    "np.concatenate((arr[arr % 24 == 0], arr[arr%12 == 0]))"
   ]
  },
  {
   "cell_type": "code",
   "execution_count": 14,
   "id": "d7eec740",
   "metadata": {},
   "outputs": [],
   "source": [
    "from scipy import stats"
   ]
  },
  {
   "cell_type": "code",
   "execution_count": 20,
   "id": "d8849414",
   "metadata": {},
   "outputs": [
    {
     "data": {
      "text/plain": [
       "array([ 0,  3, 12, 18, 24])"
      ]
     },
     "execution_count": 20,
     "metadata": {},
     "output_type": "execute_result"
    }
   ],
   "source": [
    "np.unique(np.concatenate((arr[arr % 3 == 0], arr[arr % 4 == 0])))"
   ]
  },
  {
   "cell_type": "code",
   "execution_count": null,
   "id": "063c80f1",
   "metadata": {},
   "outputs": [],
   "source": []
  }
 ],
 "metadata": {
  "kernelspec": {
   "display_name": "Python 3",
   "language": "python",
   "name": "python3"
  },
  "language_info": {
   "codemirror_mode": {
    "name": "ipython",
    "version": 3
   },
   "file_extension": ".py",
   "mimetype": "text/x-python",
   "name": "python",
   "nbconvert_exporter": "python",
   "pygments_lexer": "ipython3",
   "version": "3.8.10"
  }
 },
 "nbformat": 4,
 "nbformat_minor": 5
}
